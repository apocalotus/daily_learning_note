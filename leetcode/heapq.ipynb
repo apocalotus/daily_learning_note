{
 "cells": [
  {
   "attachments": {},
   "cell_type": "markdown",
   "metadata": {},
   "source": [
    "# 堆排序(最小堆算法)\n",
    "\n",
    "python库: heapq\n",
    "\n",
    "这个模块实现了堆队列算法，即优先队列算法。\n",
    "\n",
    "堆是一棵完全二叉树，其中每个节点的值都小于等于其各个子节点的值。这个使用数组的实现，索引从 0 开始，且对所有的 k 都有 $heap[k] <= heap[2*k+1]$ 和 $heap[k] <= heap[2*k+2]$。比较时不存在的元素被认为是无限大。堆最有趣的特性在于最小的元素总是在根结点：heap[0]。\n",
    "\n",
    "创建最小堆: 空列表[], 或者使用heapify()函数将列表转换为最小堆\n",
    "\n",
    "heapq定义了以下函数:\n",
    "+ heapq.heappush(*heap, item*):\n",
    "将item的值加入heap中, 同时保持**堆的不变性**\n",
    "+ heapq.heappop\n",
    "+ heapq.heappushpop(*heap, item*): 等价于先heappush再heappop, 更有效率\n",
    "+ heapq.heapify(x)\n",
    "+ heapq.heapreplace(*heap, item*)\n",
    "弹出并返回heap中最小值, 同时push进新的item, 堆的大小不变. 如果堆为空则raise IndexError\n",
    "\n",
    "该模块还提供了三个基于堆的通用目的的函数\n",
    "\n",
    "+ heapq.merge(*iterables, key=None, reverse=False*)\n",
    "类似sorted, 将多个**已排序**的输入和并为一个已排序的输出\n",
    "+ heapq.nlargest(*n, iterable, key=None*)\n",
    "+ heapq.nsmallest(*n, iterable, key=None*)\n",
    "  \n",
    "\n"
   ]
  },
  {
   "attachments": {},
   "cell_type": "markdown",
   "metadata": {},
   "source": [
    "# 优先队列的实现\n",
    "\n",
    "## 优先队列实现的挑战\n",
    "\n",
    "+ 排序稳定性: 相同优先级任务按照最初被加入队列顺序返回\n",
    "+ 如果prority相同且task之间未定义默认比较顺序, 则两个(priority, task) 元祖之间无法比较\n",
    "+ 任务优先级发生改变的情况下, 如何将其移至堆中的新位置\n",
    "+ 如果一个挂起的人物需要被删除, 如何找到他并一处队列\n",
    "  \n",
    "## 解决方案\n",
    "\n",
    "针对前两项挑战的一种解决方案是引入条目计数来打破优先级的平局\n",
    "```\n",
    "counter = itertools.count()\n",
    "count = next(counter)\n",
    "entry = [priority, count, task]\n",
    "```\n",
    "\n",
    "两个task之间不可比的问题的另一种解决方案是-- 创建一个忽略task, 只比较priority字段的包装器类:"
   ]
  },
  {
   "cell_type": "code",
   "execution_count": 1,
   "metadata": {},
   "outputs": [],
   "source": [
    "from dataclasses import dataclass, field\n",
    "from typing import Any\n",
    "\n",
    "@dataclass(order=True)\n",
    "class PrioritizedItem:\n",
    "    priority: int\n",
    "    item: Any=field(compare=False)"
   ]
  },
  {
   "cell_type": "code",
   "execution_count": 2,
   "metadata": {},
   "outputs": [],
   "source": [
    "item1 = PrioritizedItem(priority=10, item=\"Item 1\")\n",
    "item2 = PrioritizedItem(priority=5, item=\"Item 2\")"
   ]
  },
  {
   "attachments": {},
   "cell_type": "markdown",
   "metadata": {},
   "source": [
    "其余的挑战主要包括找到挂起的任务并修改其优先级或将其完全移除。 找到一个任务可使用一个指向队列中条目的字典来实现。\n",
    "\n",
    "移除条目或改变其优先级的操作实现起来更为困难，因为它会破坏堆结构不变量。 因此，一种可能的解决方案是将条目标记为已移除，再添加一个改变了优先级的新条目:"
   ]
  },
  {
   "cell_type": "code",
   "execution_count": null,
   "metadata": {},
   "outputs": [],
   "source": [
    "import itertools\n",
    "from heapq import *\n",
    "pq = []                         # list of entries arranged in a heap\n",
    "entry_finder = {}               # mapping of tasks to entries\n",
    "REMOVED = '<removed-task>'      # placeholder for a removed task\n",
    "counter = itertools.count()     # unique sequence count\n",
    "\n",
    "def add_task(task, priority=0):\n",
    "    'Add a new task or update the priority of an existing task'\n",
    "    if task in entry_finder:\n",
    "        remove_task(task)\n",
    "    count = next(counter)\n",
    "    entry = [priority, count, task]\n",
    "    entry_finder[task] = entry\n",
    "    heappush(pq, entry)\n",
    "\n",
    "def remove_task(task):\n",
    "    'Mark an existing task as REMOVED.  Raise KeyError if not found.'\n",
    "    entry = entry_finder.pop(task)\n",
    "    entry[-1] = REMOVED\n",
    "\n",
    "def pop_task():\n",
    "    'Remove and return the lowest priority task. Raise KeyError if empty.'\n",
    "    while pq:\n",
    "        priority, count, task = heappop(pq)\n",
    "        if task is not REMOVED:\n",
    "            del entry_finder[task]\n",
    "            return task\n",
    "    raise KeyError('pop from an empty priority queue')"
   ]
  }
 ],
 "metadata": {
  "kernelspec": {
   "display_name": "Python 3",
   "language": "python",
   "name": "python3"
  },
  "language_info": {
   "codemirror_mode": {
    "name": "ipython",
    "version": 3
   },
   "file_extension": ".py",
   "mimetype": "text/x-python",
   "name": "python",
   "nbconvert_exporter": "python",
   "pygments_lexer": "ipython3",
   "version": "3.10.5"
  },
  "orig_nbformat": 4,
  "vscode": {
   "interpreter": {
    "hash": "e8d1ec50fd7cdf00e23e95138235c186cd194dab816568c511b1f672e5e9780d"
   }
  }
 },
 "nbformat": 4,
 "nbformat_minor": 2
}
