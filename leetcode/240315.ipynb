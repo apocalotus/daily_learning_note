{
 "cells": [
  {
   "attachments": {},
   "cell_type": "markdown",
   "metadata": {},
   "source": [
    "# 二分搜索\n"
   ]
  },
  {
   "cell_type": "code",
   "execution_count": 7,
   "metadata": {},
   "outputs": [],
   "source": [
    "# LC275\n",
    "class Solution:\n",
    "    def hIndex(self, citations: List[int]) -> int:\n",
    "        left=0\n",
    "        right = len(citations) - 1\n",
    "        while left < right:\n",
    "            mid = (left + right) //2\n",
    "            if citations[mid] < len(citations) - mid:\n",
    "                left = mid + 1\n",
    "            else: right = mid\n",
    "            print(left,right)\n",
    "        if left== len(citations) - 1:\n",
    "            return min(1,citations[-1])\n",
    "        return len(citations) - left"
   ]
  },
  {
   "cell_type": "code",
   "execution_count": 10,
   "metadata": {},
   "outputs": [
    {
     "name": "stdout",
     "output_type": "stream",
     "text": [
      "1 1\n"
     ]
    }
   ],
   "source": [
    "citations = [0,0]\n",
    "left=0\n",
    "right = len(citations) - 1\n",
    "\n",
    "while left < right:\n",
    "    mid = (left + right) //2\n",
    "    if citations[mid] < len(citations) - mid:\n",
    "        left = mid + 1\n",
    "    # elif citations[mid] == len(citations) - mid:\n",
    "    #     return len(citations) - mid\n",
    "    else: right = mid\n",
    "    print(left,right)\n"
   ]
  },
  {
   "cell_type": "code",
   "execution_count": 11,
   "metadata": {},
   "outputs": [
    {
     "name": "stdout",
     "output_type": "stream",
     "text": [
      "['1', '2', '3']\n"
     ]
    }
   ],
   "source": [
    "path=['1','2','3']\n",
    "''.join(path)\n",
    "print(path)"
   ]
  },
  {
   "cell_type": "code",
   "execution_count": 1,
   "metadata": {},
   "outputs": [],
   "source": [
    "def longestsubstring(l):\n",
    "    ans = 0\n",
    "    if len(l) == len(set(l)):\n",
    "        return len(l)\n",
    "    d = dict()\n",
    "    for i in range(len(l)):\n",
    "        strset = set(l[:i])\n",
    "        if l[i] in strset:\n",
    "            ans = max(ans, i - d[l[i]])\n",
    "            d[l[i]]=i \n",
    "        else:\n",
    "            d[l[i]] = i\n",
    "    \n",
    "    return ans\n",
    "        \n",
    "        "
   ]
  },
  {
   "attachments": {},
   "cell_type": "markdown",
   "metadata": {},
   "source": [
    "# LC1642. 可以到达的最远建筑"
   ]
  },
  {
   "cell_type": "code",
   "execution_count": 1,
   "metadata": {},
   "outputs": [],
   "source": [
    "from math import inf\n",
    "def solution(heights, bricks, ladders):\n",
    "    min_c = 0\n",
    "    if ladders > 0:\n",
    "        max_climbs = [0] * ladders\n",
    "    else:\n",
    "        min_c = inf\n",
    "    for i in range(len(heights)-1):\n",
    "        \n",
    "        \n",
    "        if heights[i+1] - heights[i] > min_c:\n",
    "            max_climbs[0] = heights[i+1] - heights[i]\n",
    "            bricks -= min_c\n",
    "            min_c = min(max_climbs)\n",
    "            max_climbs.sort(reverse=False)\n",
    "        elif heights[i+1] - heights[i] > 0:\n",
    "            bricks -= heights[i+1] - heights[i]\n",
    "        \n",
    "            \n",
    "        if bricks < 0:\n",
    "            return i\n",
    "    \n",
    "    return len(heights)-1"
   ]
  },
  {
   "cell_type": "code",
   "execution_count": null,
   "metadata": {},
   "outputs": [],
   "source": [
    "import heapq\n",
    "def furthestBuilding(heights, bricks, ladders):\n",
    "        hq = []\n",
    "        for i in range(1, len(heights)):\n",
    "            diff = heights[i] - heights[i - 1]\n",
    "            if diff > 0:\n",
    "                heapq.heappush(hq, -diff)\n",
    "                bricks -= diff\n",
    "                if bricks < 0:\n",
    "                    if ladders:\n",
    "                        ladders -= 1\n",
    "                        bricks -= heapq.heappop(hq)\n",
    "                    else:\n",
    "                        return (i - 1)\n",
    "        return len(heights) - 1"
   ]
  },
  {
   "cell_type": "code",
   "execution_count": 2,
   "metadata": {},
   "outputs": [
    {
     "data": {
      "text/plain": [
       "4"
      ]
     },
     "execution_count": 2,
     "metadata": {},
     "output_type": "execute_result"
    }
   ],
   "source": [
    "solution([4,2,7,6,9,14,12], 5, 1)"
   ]
  },
  {
   "cell_type": "code",
   "execution_count": 2,
   "metadata": {},
   "outputs": [
    {
     "data": {
      "text/plain": [
       "3"
      ]
     },
     "execution_count": 2,
     "metadata": {},
     "output_type": "execute_result"
    }
   ],
   "source": [
    "longestsubstring('abcabc')"
   ]
  }
 ],
 "metadata": {
  "kernelspec": {
   "display_name": "Python 3",
   "language": "python",
   "name": "python3"
  },
  "language_info": {
   "codemirror_mode": {
    "name": "ipython",
    "version": 3
   },
   "file_extension": ".py",
   "mimetype": "text/x-python",
   "name": "python",
   "nbconvert_exporter": "python",
   "pygments_lexer": "ipython3",
   "version": "3.10.5"
  },
  "orig_nbformat": 4,
  "vscode": {
   "interpreter": {
    "hash": "e8d1ec50fd7cdf00e23e95138235c186cd194dab816568c511b1f672e5e9780d"
   }
  }
 },
 "nbformat": 4,
 "nbformat_minor": 2
}
