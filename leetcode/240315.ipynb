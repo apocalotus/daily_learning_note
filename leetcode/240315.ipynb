{
 "cells": [
  {
   "attachments": {},
   "cell_type": "markdown",
   "metadata": {},
   "source": [
    "# 二分搜索\n"
   ]
  },
  {
   "cell_type": "code",
   "execution_count": 7,
   "metadata": {},
   "outputs": [],
   "source": [
    "# LC275\n",
    "class Solution:\n",
    "    def hIndex(self, citations: List[int]) -> int:\n",
    "        left=0\n",
    "        right = len(citations) - 1\n",
    "        while left < right:\n",
    "            mid = (left + right) //2\n",
    "            if citations[mid] < len(citations) - mid:\n",
    "                left = mid + 1\n",
    "            else: right = mid\n",
    "            print(left,right)\n",
    "        if left== len(citations) - 1:\n",
    "            return min(1,citations[-1])\n",
    "        return len(citations) - left"
   ]
  },
  {
   "cell_type": "code",
   "execution_count": 10,
   "metadata": {},
   "outputs": [
    {
     "name": "stdout",
     "output_type": "stream",
     "text": [
      "1 1\n"
     ]
    }
   ],
   "source": [
    "citations = [0,0]\n",
    "left=0\n",
    "right = len(citations) - 1\n",
    "\n",
    "while left < right:\n",
    "    mid = (left + right) //2\n",
    "    if citations[mid] < len(citations) - mid:\n",
    "        left = mid + 1\n",
    "    # elif citations[mid] == len(citations) - mid:\n",
    "    #     return len(citations) - mid\n",
    "    else: right = mid\n",
    "    print(left,right)\n"
   ]
  },
  {
   "cell_type": "code",
   "execution_count": 11,
   "metadata": {},
   "outputs": [
    {
     "name": "stdout",
     "output_type": "stream",
     "text": [
      "['1', '2', '3']\n"
     ]
    }
   ],
   "source": [
    "path=['1','2','3']\n",
    "''.join(path)\n",
    "print(path)"
   ]
  },
  {
   "cell_type": "code",
   "execution_count": 1,
   "metadata": {},
   "outputs": [],
   "source": [
    "def longestsubstring(l):\n",
    "    ans = 0\n",
    "    if len(l) == len(set(l)):\n",
    "        return len(l)\n",
    "    d = dict()\n",
    "    for i in range(len(l)):\n",
    "        strset = set(l[:i])\n",
    "        if l[i] in strset:\n",
    "            ans = max(ans, i - d[l[i]])\n",
    "            d[l[i]]=i \n",
    "        else:\n",
    "            d[l[i]] = i\n",
    "    \n",
    "    return ans\n",
    "        \n",
    "        "
   ]
  },
  {
   "cell_type": "code",
   "execution_count": 2,
   "metadata": {},
   "outputs": [
    {
     "data": {
      "text/plain": [
       "3"
      ]
     },
     "execution_count": 2,
     "metadata": {},
     "output_type": "execute_result"
    }
   ],
   "source": [
    "longestsubstring('abcabc')"
   ]
  }
 ],
 "metadata": {
  "kernelspec": {
   "display_name": "Python 3",
   "language": "python",
   "name": "python3"
  },
  "language_info": {
   "codemirror_mode": {
    "name": "ipython",
    "version": 3
   },
   "file_extension": ".py",
   "mimetype": "text/x-python",
   "name": "python",
   "nbconvert_exporter": "python",
   "pygments_lexer": "ipython3",
   "version": "3.10.5 (tags/v3.10.5:f377153, Jun  6 2022, 16:14:13) [MSC v.1929 64 bit (AMD64)]"
  },
  "orig_nbformat": 4,
  "vscode": {
   "interpreter": {
    "hash": "e8d1ec50fd7cdf00e23e95138235c186cd194dab816568c511b1f672e5e9780d"
   }
  }
 },
 "nbformat": 4,
 "nbformat_minor": 2
}
