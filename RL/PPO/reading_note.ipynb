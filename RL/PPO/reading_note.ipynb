{
 "cells": [
  {
   "attachments": {},
   "cell_type": "markdown",
   "metadata": {},
   "source": [
    "# Blog: 深度解读 Policy Gradient, PPO & PPG\n",
    "\n",
    "linnk: https://zhuanlan.zhihu.com/p/342150033\n",
    "\n",
    "## Policy Gradient method\n",
    "\n",
    "## GAE (Generalized Advantage Estimation)\n",
    "\n",
    "$TD(\\lambda)$- like advantage estimation\n",
    "\n",
    "In practice, instead of using infinite-length horizon, sample a fixed length of nstep, program it in a recursive manner."
   ]
  },
  {
   "cell_type": "code",
   "execution_count": null,
   "metadata": {},
   "outputs": [],
   "source": [
    "import torch\n",
    "def compute_gae(\n",
    "    vpred, # \"value predictions\",\n",
    "    reward,\n",
    "    first, # \"mark beginning of episodes\"\n",
    "    gamma,\n",
    "    lambda_gae\n",
    "):\n",
    "    orig_device = vpred.device\n",
    "    assert orig_device == reward.device == first.device\n",
    "    vpred, reward, first = (x.to('cpu') for x in (vpred, reward, first))\n",
    "    assert first.dim() == 2\n",
    "    nenv, nstep = reward.shape\n",
    "    assert vpred.shape == first.shape == (nenv, nstep + 1)\n",
    "    adv = torch.zeros([nenv, nstep], dtype=torch.float32)\n",
    "    lastgaelam = 0\n",
    "    \n",
    "    for t in reversed(range(nstep)):\n",
    "        notlast = 1 - first[:,t+1]\n",
    "        nextvalue = vpred[:t+1]\n",
    "        delta = reward[:,t] + gamma * nextvalue - vpred[:,t]\n",
    "        adv[:,t] = lastgaelam = delta + notlast * gamma * lambda_gae * lastgaelam\n",
    "\n",
    "    vtarg = vpred[:,:-1] + adv\n",
    "    return adv.to(orig_device), vtarg.to(orig_device)\n"
   ]
  },
  {
   "attachments": {},
   "cell_type": "markdown",
   "metadata": {},
   "source": [
    "**Note**\n",
    "\n",
    "Here we need have an extra step for value(vpred) and terminal(first) to calculate the desired gae and value target."
   ]
  },
  {
   "attachments": {},
   "cell_type": "markdown",
   "metadata": {},
   "source": [
    "## Calculation of log likelihood\n",
    "\n",
    "For discrete action space, it is a Catergorical Distribution.\n",
    "\n",
    "For continuous action space, it is usually a Gaussian Distribution."
   ]
  },
  {
   "cell_type": "code",
   "execution_count": null,
   "metadata": {},
   "outputs": [],
   "source": [
    "# Gumbel max sampling in openai baseline\n",
    "import tensorflow as tf\n",
    "def sample(self):\n",
    "    u = tf.random_uniform(tf.shape(self.logits), dtype=self.logits.dtype)\n",
    "    return tf.argmax(self.logits - tf.log(-tf.log(u)), axis=-1)\n",
    "\n",
    "# equivalent to multinomial sampling yet more efficient"
   ]
  },
  {
   "attachments": {},
   "cell_type": "markdown",
   "metadata": {},
   "source": [
    "### Gumbel Distribution\n",
    "\n",
    "<div align=\"center\">\n",
    "<img src=asset/gumbel1.png  width=50%/>\n",
    "\n",
    "<div style=\"color:orange; border-bottom: 1px solid #d9d9d9;\n",
    "    display: inline-block;\n",
    "    color: #999;\n",
    "    padding: 2px;\">Gumbel Distribution</div>\n",
    "\n",
    "<br>\n",
    "\n",
    "the Gumbel distribution is typically used to model the maximum of a set of independent samples, and it should be a good fit when the underlying data is distributed according to either a normal or an exponential distribution. Furthermore, the multinomial random choice of a discrete distribution can be viewed as the operation of argmax on original logit plus a gumbel noise.\n",
    "\n",
    "The Gumbel-Max Trick for Discrete Distributions.\n",
    "\n",
    "link: https://hips.seas.harvard.edu/blog/2013/04/06/the-gumbel-max-trick-for-discrete-distributions"
   ]
  },
  {
   "cell_type": "code",
   "execution_count": 19,
   "metadata": {},
   "outputs": [
    {
     "data": {
      "image/png": "[encoded data removed]",
      "text/plain": [
       "<Figure size 640x480 with 2 Axes>"
      ]
     },
     "metadata": {},
     "output_type": "display_data"
    }
   ],
   "source": [
    "# Manually generating Gumbel Distribution from uniform distribution\n",
    "from matplotlib.pyplot import *\n",
    "import numpy as np\n",
    "from numpy import log\n",
    "n_samples = 1000\n",
    "numpy_gumbel = np.random.gumbel(size=n_samples)\n",
    "manual_gumbel = -log(-log(np.random.uniform(size=n_samples)))\n",
    "figure()\n",
    "subplot(1, 2, 1)\n",
    "hist(numpy_gumbel, bins=50)\n",
    "ylabel(\"Probability\")\n",
    "xlabel(\"numpy Gumbel\")\n",
    "subplot(1, 2, 2)\n",
    "hist(manual_gumbel, bins=50)\n",
    "xlabel(\"Gumbel from uniform noise\")"
   ]
  },
  {
   "attachments": {},
   "cell_type": "markdown",
   "metadata": {},
   "source": [
    "### The Gumbel-softmax trick\n",
    "Remember, the Gumbel-max trick produces a sample by adding noise to the logits then taking the argmax of the resulting vector. So far, there's nothing so special about Gumbel-max sampling.\n",
    "\n",
    "But what if we approximate the argmax by a (low-temperature) softmax? Then something really interesting happens: we have a chain of operations that's fully differentiable. We have differentiable sampling operator (albeit with a soft one-hot output instead of a scalar). Wow!\n",
    "\n",
    "<div align=\"center\">\n",
    "<img src=asset/differentiable_argmax.webp  width=60%/>\n",
    "\n",
    "<div style=\"color:orange; border-bottom: 1px solid #d9d9d9;\n",
    "    display: inline-block;\n",
    "    color: #999;\n",
    "    padding: 2px;\">Differentiable argmax in a NN</div>\n",
    "\n",
    "<br>\n",
    "\n"
   ]
  },
  {
   "attachments": {},
   "cell_type": "markdown",
   "metadata": {},
   "source": [
    "## PPO\n",
    "\n",
    "PPO is an improvement on  vanilla pocily gradient, inheriting from TRPO.\n",
    "\n",
    "The biggest problem of PG methods is the bias of data distribution, deriving from a biased estimate of Advantage function. Therefore, if an update of policy is too far off, the next sampling will be dramatically off road, inducing a malicious cycle. TRPO addresses this problem by keeping policy updates in a trust region.\n",
    "\n",
    "### Use of importance sampling\n",
    "\n",
    "PG mthods are on policy, therefore sampling inefficient. For TRPO and PPO, they are mostly off-policy, or near on-policy due to sanple reuse.\n",
    "\n",
    "For PPO, usually we have sample_reuse = 3. (one on-policy update, the others are off-policy)\n",
    "\n",
    "Hence, we use IS to adjust.\n",
    "\n",
    "<div align=\"center\">\n",
    "<img src=asset/is.png  width=60%/>\n",
    "\n",
    "<div style=\"color:orange;\n",
    "    display: inline-block;\n",
    "    color: #999;\n",
    "    padding: 2px;\">Importance Sampling</div>\n",
    "\n",
    "<br></div>\n",
    "\n",
    "### Clipped Surrogate Objective\n",
    "\n",
    "<div align=\"center\">\n",
    "<img src=asset/clip.webp width=80%/>\n",
    "\n",
    "<div style=\"color:orange;\n",
    "    display: inline-block;\n",
    "    color: #999;\n",
    "    padding: 2px;\">clip-PPO</div>\n",
    "</div>\n",
    "\n",
    "The idea of PPO is  that we clip the ratio of current and old policies, if the ratio exceeds $\\epsilon$, it will be clipped, and the gradient will be zero, stopping further deviation"
   ]
  },
  {
   "attachments": {},
   "cell_type": "markdown",
   "metadata": {},
   "source": [
    "### Basic Training Flow\n",
    "\n",
    "<div align=\"center\">\n",
    "<img src=asset/algorithm.webp width=60%/>\n",
    "\n",
    "<div style=\"color:orange;\n",
    "    display: inline-block;\n",
    "    color: #999;\n",
    "    padding: 2px;\">PPO</div>\n",
    "</div>\n",
    "\n",
    "Common setting: K = 3, minibatch_size = NT/4. That means 12 updates per sampling.\n",
    "\n",
    "### OpenAI Dota Five\n",
    "\n",
    "$$Sample Reuse := \\frac{(sample \\space per \\space batch) \\times (batches \\space per \\space second)}{(experience \\space buffer \\space intake \\space samples \\space per \\space second)}$$\n",
    "\n",
    "Sample reuse means sample use by learner per second divided by sample generation per second, thus can be smaller than 1.\n",
    "\n",
    "Experiments show that lower sample reuse imporve model perfermance, this is due to the huge batchsize and up to 32 updates in a single iteration, which is more than sufficient to update value function, unlike in small-scale scenario. In the practice by OpenAI, sample reuse is  0.8-2.7, and sample rerun is 1.0-1.1, implying avoiding sample rerun.\n",
    "\n",
    "<div align=\"center\">\n",
    "<img src=asset/openai_five.webp width=80%/>\n",
    "\n",
    "<div style=\"color:orange;\n",
    "    display: inline-block;\n",
    "    color: #999;\n",
    "    padding: 2px;\">OpenAI Five</div>\n",
    "</div>\n",
    "\n",
    "\n",
    "### PPO Loss\n",
    "\n",
    "PPO loss contains three parts: policy loss, value funtion loss and entropy loss.\n",
    "\n",
    "Common setting: $c_2 = 0.01 \\rightarrow 0.001, \\space learning rate = 5\\times 10^{-5} \\rightarrow 5 \\times 10^{-6}$\n",
    "\n",
    "### Clipping and Normalization for Obs, Reward and Advantage \n",
    "\n",
    "To make PPO work for differnet game scenario, clipping and normalization are key.\n",
    "\n",
    "Usually, we do clipping after noramlization.\n",
    "\n",
    "Advantage normalization is direct, and can be operated on batch data, assuming that advantage has stable distribution.\n",
    "\n",
    "For rewards, we use running avg.\n"
   ]
  },
  {
   "cell_type": "code",
   "execution_count": null,
   "metadata": {},
   "outputs": [],
   "source": [
    "class RewardNoramlizer:\n",
    "    def __init__(self, num_envs, cliprew=10.0, gamma=0.99, epsilon=1e-8, per_env=False) -> None:\n",
    "        ret_rms_shape =(num_env,) if per_env else ()\n",
    "        self.ret_rms = RunningMeanStd(shape=ret_rms_shape)\n",
    "        self.cliprew = cliprew\n",
    "        self.ret = th.zeros(num_envs)\n",
    "        self.gamma = gamma\n",
    "        self.epsilon = epsilon\n",
    "        self.per_env = per_env\n",
    "    \n",
    "    def __call__(self, reward, first):\n",
    "        rets = backward_discounted_sum(\n",
    "            prevret=self.ret, reward=reward.cpu(), fisrt=first.cpu(), gamma=self.gamma\n",
    "        )\n",
    "        self.ret = ret[:,-1]\n",
    "        self.ret_rms.update(rets if self.per_env else rets.reshape(-1))\n",
    "        return self.transform(reward)\n",
    "    \n",
    "    def transform(self, reward):\n",
    "        return th.clamp(\n",
    "            reward / th.sqrt(self.ret_rms.var + self.epsilon),\n",
    "            -self.cliprew,\n",
    "            self.cliprew,\n",
    "        )"
   ]
  },
  {
   "cell_type": "code",
   "execution_count": null,
   "metadata": {},
   "outputs": [],
   "source": [
    "# observation normalization\n",
    "\n",
    "def _normalize_clip_observation(x, clip_range=[-5.0, 5.0]):\n",
    "    rms = RunningMeanStd(shape=x.shape[1:])\n",
    "    norm_x = tf.clip_by_value((x - rms.mean) / rms.std, min(clip_range), max(clip_range))\n",
    "    return norm_x, rms"
   ]
  },
  {
   "attachments": {},
   "cell_type": "markdown",
   "metadata": {},
   "source": [
    "**Note**\n",
    "\n",
    "Recommendation: Always use observation normalization and check if value function normalization improves performance. Gradient clipping might slightly help but is of secondary importance."
   ]
  },
  {
   "attachments": {},
   "cell_type": "markdown",
   "metadata": {},
   "source": [
    "### Network Initialization\n",
    "\n",
    "In PPG, the neural network uses Normalized Fan-in init(std is calculated using the norm of fan-in weights)"
   ]
  },
  {
   "cell_type": "code",
   "execution_count": null,
   "metadata": {},
   "outputs": [],
   "source": [
    "def NormedLinear(*args, scale=1.0, dtype=th.float32, **kwargs):\n",
    "    \"\"\"\n",
    "    nn.Linear but with normalized fan-in init\n",
    "    \"\"\"\n",
    "    dtype = parse_dtype(dtype)\n",
    "    if dtype == th.float32:\n",
    "        out = nn.Linear(*args, **kwargs)\n",
    "    elif dtype == th.float16:\n",
    "        out = LinearF16(*args, **kwargs)\n",
    "    else:\n",
    "        raise ValueError(dtype)\n",
    "    out.weight.data *= scale / out.weight.norm(dim=1, p=2, keepdim=True)\n",
    "    if kwargs.get(\"bias\", True):\n",
    "        out.bias.data *= 0\n",
    "    return out\n",
    "\n",
    "def NormedConv2d(*args, scale=1, **kwargs):\n",
    "    \"\"\"\n",
    "    nn.Conv2d but with normalized fan-in init\n",
    "    \"\"\"\n",
    "    out = nn.Conv2d(*args, **kwargs)\n",
    "    out.weight.data *= scale / out.weight.norm(dim=(1, 2, 3), p=2, keepdim=True)\n",
    "    if kwargs.get(\"bias\", True):\n",
    "        out.bias.data *= 0\n",
    "    return out"
   ]
  },
  {
   "cell_type": "code",
   "execution_count": null,
   "metadata": {},
   "outputs": [],
   "source": [
    "def kaiming_normal_(tensor, a=0, mode='fan_in', nonlinearity='leaky_relu'):\n",
    "    fan = _calculate_correct_fan(tensor, mode) \n",
    "    # 通过mode判断是前向传播还是反向传播, 生成不同的一个fan值.\n",
    "    gain = calculate_gain(nonlinearity, a)\n",
    "    # 通过判断是哪种激活函数生成一个gain值\n",
    "    std = gain / math.sqrt(fan) # 通过fan值和gain值进行标准差的计算\n",
    "    with torch.no_grad():\n",
    "        return tensor.normal_(0, std)\n",
    "\n",
    "def _calculate_fan_in_and_fan_out(tensor):\n",
    "    dimensions = tensor.dim() # 返回的是维度\n",
    "    if dimensions < 2:\n",
    "        raise ValueError(\"Fan in and fan out can not be computed for tensor with fewer than 2 dimensions\")\n",
    "    if dimensions == 2:  # Linear\n",
    "        fan_in = tensor.size(1) \n",
    "        fan_out = tensor.size(0)\n",
    "    else:\n",
    "        num_input_fmaps = tensor.size(1) # 卷积的输入通道大小\n",
    "        num_output_fmaps = tensor.size(0) # 卷积的输出通道大小\n",
    "        receptive_field_size = 1\n",
    "        if tensor.dim() > 2:\n",
    "            receptive_field_size = tensor[0][0].numel() # 卷积核的大小:k*k\n",
    "        fan_in = num_input_fmaps * receptive_field_size # 输入通道数量*卷积核的大小. 用于前向传播\n",
    "        fan_out = num_output_fmaps * receptive_field_size # 输出通道数量*卷积核的大小. 用于反向传播\n",
    "\n",
    "    return fan_in, fan_out\n",
    "\n",
    "def _calculate_correct_fan(tensor, mode):\n",
    "    mode = mode.lower()\n",
    "    valid_modes = ['fan_in', 'fan_out']\n",
    "    if mode not in valid_modes:\n",
    "        raise ValueError(\"Mode {} not supported, please use one of {}\".format(mode, valid_modes))\n",
    "\n",
    "    fan_in, fan_out = _calculate_fan_in_and_fan_out(tensor)\n",
    "    return fan_in if mode == 'fan_in' else fan_out\n",
    "\n",
    "def calculate_gain(nonlinearity, param=None):\n",
    "    r\"\"\"Return the recommended gain value for the given nonlinearity function.\n",
    "    The values are as follows:\n",
    "\n",
    "    ================= ====================================================\n",
    "    nonlinearity      gain\n",
    "    ================= ====================================================\n",
    "    Linear / Identity :math:`1`\n",
    "    Conv{1,2,3}D      :math:`1`\n",
    "    Sigmoid           :math:`1`\n",
    "    Tanh              :math:`\\frac{5}{3}`\n",
    "    ReLU              :math:`\\sqrt{2}`\n",
    "    Leaky Relu        :math:`\\sqrt{\\frac{2}{1 + \\text{negative\\_slope}^2}}`\n",
    "    ================= ====================================================\n",
    "\n",
    "    Args:\n",
    "        nonlinearity: the non-linear function (`nn.functional` name)\n",
    "        param: optional parameter for the non-linear function\n",
    "\n",
    "    Examples:\n",
    "        >>> gain = nn.init.calculate_gain('leaky_relu', 0.2)  # leaky_relu with negative_slope=0.2\n",
    "    \"\"\"\n",
    "    linear_fns = ['linear', 'conv1d', 'conv2d', 'conv3d', 'conv_transpose1d', 'conv_transpose2d', 'conv_transpose3d']\n",
    "    if nonlinearity in linear_fns or nonlinearity == 'sigmoid':\n",
    "        return 1\n",
    "    elif nonlinearity == 'tanh':\n",
    "        return 5.0 / 3\n",
    "    elif nonlinearity == 'relu':\n",
    "        return math.sqrt(2.0)\n",
    "    elif nonlinearity == 'leaky_relu':\n",
    "        if param is None:\n",
    "            negative_slope = 0.01\n",
    "        elif not isinstance(param, bool) and isinstance(param, int) or isinstance(param, float):\n",
    "            # True/False are instances of int, hence check above\n",
    "            negative_slope = param\n",
    "        else:\n",
    "            raise ValueError(\"negative_slope {} not a valid number\".format(param))\n",
    "        return math.sqrt(2.0 / (1 + negative_slope ** 2))\n",
    "    else:\n",
    "        raise ValueError(\"Unsupported nonlinearity {}\".format(nonlinearity))"
   ]
  },
  {
   "attachments": {},
   "cell_type": "markdown",
   "metadata": {},
   "source": [
    "Initialize the last policy layer with 100x smaller weights. Use softplus function $ln(1 + e^x)$ to transform network output into action and add a negative offset to its input to decrease the initial std of actions. Tune this offset if possible. Use tanh both as the activation function (if the networks are not too deep) and to transform the samples from the normal distribution to the bounded action space. Use a wide value MLP (no layers shared with the policy) but tune the policy width(it might need to be narrower than the calue MLP)\n",
    "\n",
    "初始化最后策略层的权重：建议在初始化策略网络的最后一层时，使用比正常小100倍的权重。这样做的目的可能是为了减缓学习过程的开始阶段，防止在训练初期出现过大的动作（actions）输出，从而有助于稳定训练过程。\n",
    "\n",
    "使用softplus函数转换网络输出为动作的标准差：在强化学习中，动作的不确定性是一个重要的因素。softplus函数（σ(x) = ln(1 + e^x)）是一个平滑且单调递增的函数，它能够将网络的输出转换为一个正的标准差值，这对于实现动作的不确定性模型（如高斯策略）非常有用。\n",
    "\n",
    "添加负偏移以减小初始动作的标准差：在softplus函数之前添加一个负偏移量，可以进一步减小初始动作的标准差。这样做可以确保在训练开始时，策略不会生成过大的动作，有助于避免潜在的不稳定性。\n",
    "\n",
    "调整偏移量：如果可能的话，应该调整这个偏移量以优化性能。这可能涉及到超参数调优的过程，通过实验找到最佳的偏移量。\n",
    "\n",
    "使用tanh作为激活函数：如果网络不是太深，可以使用tanh（双曲正切函数）作为激活函数。tanh函数的输出范围是[-1, 1]，这使得它适合用于将网络输出规范化到一个有界的动作空间。\n",
    "\n",
    "使用宽度较大的值网络（Value MLP）：值网络（value network）用于估计状态的预期回报。建议使用一个宽度较大的多层感知机（MLP），但不与策略网络共享层。这样做可以提高值网络的表达能力，更准确地估计值函数。\n",
    "\n",
    "调整策略宽度：策略网络的宽度（即层的数量和每层的神经元数量）可能需要根据实际情况进行调整。有时，为了控制动作的方差，可能需要一个比值网络更窄的策略网络。"
   ]
  },
  {
   "attachments": {},
   "cell_type": "markdown",
   "metadata": {},
   "source": [
    "**Recommendation**\n",
    "\n",
    "Paper: https://arxiv.org/abs/2006.05990\n",
    "\n",
    "+ Policy losses: Use the PPO policy loss. Start with the clipping threshold set to 0.25, but also try lower and higher values if possible.\n",
    "+ Networks architecture: see above\n",
    "+ Normalization and clipping: Always use obs norm and check if value function norm improves performance. Gradient clipping might slightly help but is of secondary importance.\n",
    "+ Advantage Estimation: Use GAE with $\\lambda = 0.9$ but neither Huber loss(combining MSE and MAE) nor PPO-style value loss clipping for value net training.\n",
    "+ Training setup: Go over experience multiple times. Shuffle individual transitions before assigning them to minibatches and recompute advantages once per data pass. For faster wall-clock time training use many parallel environments and increase batch size(both might hurt the sample complexity). Tune the number of transitions in each iteration if possible.\n",
    "+ Timesteps handling: Discount factor $\\gamma$ is one of the most important hyperparameters and should be tuned per environment(start with $\\gamma = 0.99$). Try frame skip if possible. There is no need to handle environments step limits in a special way for large step limits.\n",
    "+ Use Adam optimizer with momentum $\\beta_1 = 0.9$ and a tuned learning rate(3e-4 is a safe default). Linearly decaying the learnign rate may slightly improve performance but is of secondary importance.\n",
    "+ Regularization: We do not find evidence that any of the investigated regularizers helps significantly on our environments with the exception of HalfCheetah on which all constraints (especially the entropy constraint) help . However, the performance boost is largely independent on the constraint threshold which suggests that the effect is caused by the initial high strength of the penalty (before it gets adjusted) and not by the desired constraint. While it is a bit surprising that regularization does not help at all (apart from HalfCheetah), we conjecture that regularization might be less important in our experiments because: (1) the PPO policy loss already enforces the trust region which makes KL penalties or constraints redundant; and (2) the careful policy initialization (See Sec. 3.2) is enough to guarantee good exploration and makes the entropy bonus or constraint redundant."
   ]
  },
  {
   "attachments": {},
   "cell_type": "markdown",
   "metadata": {},
   "source": [
    "### PPG\n",
    "\n",
    "![pic](asset/ppg.webp)\n",
    "\n",
    "\n",
    "![pic](asset/ppg2.webp)\n",
    "\n",
    "Experiments from PPG show that value funtion should be trained more, and for policy training, sample reuse should be close to 1."
   ]
  },
  {
   "attachments": {},
   "cell_type": "markdown",
   "metadata": {},
   "source": [
    "[]"
   ]
  },
  {
   "cell_type": "markdown",
   "metadata": {},
   "source": []
  },
  {
   "cell_type": "code",
   "execution_count": null,
   "metadata": {},
   "outputs": [],
   "source": [
    "###"
   ]
  },
  {
   "cell_type": "code",
   "execution_count": 30,
   "metadata": {},
   "outputs": [
    {
     "data": {
      "text/plain": [
       "tensor([[3.7417],\n",
       "        [7.0711]], dtype=torch.float64)"
      ]
     },
     "execution_count": 30,
     "metadata": {},
     "output_type": "execute_result"
    }
   ],
   "source": [
    "import torch\n",
    "a = torch.tensor([[1,2,3],[3,4,5]], dtype=float)\n",
    "a.norm(dim=1, p=2,keepdim=True)"
   ]
  },
  {
   "cell_type": "code",
   "execution_count": 9,
   "metadata": {},
   "outputs": [],
   "source": [
    "probs = np.random.randint(low=1, high=20, size=n_cats)\n",
    "probs = probs / sum(probs)\n",
    "logits = np.log(probs)"
   ]
  },
  {
   "cell_type": "code",
   "execution_count": 12,
   "metadata": {},
   "outputs": [
    {
     "data": {
      "text/plain": [
       "array([19, 17,  4,  6, 15, 14, 14])"
      ]
     },
     "execution_count": 12,
     "metadata": {},
     "output_type": "execute_result"
    }
   ],
   "source": [
    "probs = np.random.randint(low=1, high=20, size=n_cats)\n",
    "probs"
   ]
  },
  {
   "cell_type": "code",
   "execution_count": 13,
   "metadata": {},
   "outputs": [],
   "source": [
    "noise = np.random.uniform(size=7)"
   ]
  },
  {
   "cell_type": "code",
   "execution_count": 14,
   "metadata": {},
   "outputs": [
    {
     "data": {
      "text/plain": [
       "array([0.83017322, 0.35003149, 0.75920581, 0.6238727 , 0.38383317,\n",
       "       0.23929903, 0.06951028])"
      ]
     },
     "execution_count": 14,
     "metadata": {},
     "output_type": "execute_result"
    }
   ],
   "source": [
    "noise"
   ]
  },
  {
   "cell_type": "code",
   "execution_count": null,
   "metadata": {},
   "outputs": [],
   "source": []
  }
 ],
 "metadata": {
  "kernelspec": {
   "display_name": "Python 3",
   "language": "python",
   "name": "python3"
  },
  "language_info": {
   "codemirror_mode": {
    "name": "ipython",
    "version": 3
   },
   "file_extension": ".py",
   "mimetype": "text/x-python",
   "name": "python",
   "nbconvert_exporter": "python",
   "pygments_lexer": "ipython3",
   "version": "3.10.5"
  },
  "orig_nbformat": 4,
  "vscode": {
   "interpreter": {
    "hash": "e8d1ec50fd7cdf00e23e95138235c186cd194dab816568c511b1f672e5e9780d"
   }
  }
 },
 "nbformat": 4,
 "nbformat_minor": 2
}
